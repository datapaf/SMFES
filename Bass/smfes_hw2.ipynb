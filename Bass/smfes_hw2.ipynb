{
  "cells": [
    {
      "cell_type": "markdown",
      "source": [
        "# SMFES Homework 2"
      ],
      "metadata": {
        "id": "8O6mTT1nRHN3"
      },
      "id": "8O6mTT1nRHN3"
    },
    {
      "cell_type": "markdown",
      "source": [
        "Georgy Andryushchenko"
      ],
      "metadata": {
        "id": "3EdCf3zvRTSQ"
      },
      "id": "3EdCf3zvRTSQ"
    },
    {
      "cell_type": "markdown",
      "source": [
        "## Dependencies Installation"
      ],
      "metadata": {
        "id": "C20JaHIBRPUm"
      },
      "id": "C20JaHIBRPUm"
    },
    {
      "cell_type": "code",
      "source": [
        "!pip install pysd"
      ],
      "metadata": {
        "id": "7a-gXRBh6kF3"
      },
      "id": "7a-gXRBh6kF3",
      "execution_count": null,
      "outputs": []
    },
    {
      "cell_type": "code",
      "source": [
        "import matplotlib.pyplot as plt"
      ],
      "metadata": {
        "id": "TRpowx85l-Nj"
      },
      "id": "TRpowx85l-Nj",
      "execution_count": 2,
      "outputs": []
    },
    {
      "cell_type": "code",
      "execution_count": 3,
      "id": "understanding-international",
      "metadata": {
        "colab": {
          "base_uri": "https://localhost:8080/"
        },
        "id": "understanding-international",
        "outputId": "b9394ce9-2aec-47ee-de82-c04e2e1bf940"
      },
      "outputs": [
        {
          "output_type": "stream",
          "name": "stdout",
          "text": [
            "Populating the interactive namespace from numpy and matplotlib\n"
          ]
        }
      ],
      "source": [
        "#!pip install pysd\n",
        "%pylab inline\n",
        "import pysd\n",
        "#model = pysd.read_vensim('bass.mdl')"
      ]
    },
    {
      "cell_type": "markdown",
      "source": [
        "## 1. Implement a modified Bass model"
      ],
      "metadata": {
        "id": "lL31mB9nResI"
      },
      "id": "lL31mB9nResI"
    },
    {
      "cell_type": "markdown",
      "source": [
        "Check `bass.py` file for the implementation"
      ],
      "metadata": {
        "id": "xX1QIBdfRzvA"
      },
      "id": "xX1QIBdfRzvA"
    },
    {
      "cell_type": "code",
      "source": [
        "model = pysd.load('bass.py')"
      ],
      "metadata": {
        "id": "HkPHLZVzRy5o"
      },
      "id": "HkPHLZVzRy5o",
      "execution_count": 4,
      "outputs": []
    },
    {
      "cell_type": "markdown",
      "source": [
        "## 2. Evaluate the convergence of the model, i.e. the stability of the proportion of the distribution of customers."
      ],
      "metadata": {
        "id": "1qIWa8SXRx--"
      },
      "id": "1qIWa8SXRx--"
    },
    {
      "cell_type": "markdown",
      "source": [
        "1. Convergence Definition  \n",
        "Let us define convergence of a sequence as follows: A sequence $x$ converges iff for any $\\epsilon$ there exist $N$ such that $|x_n - x_{n-1}| \\leq \\epsilon$ for each $n \\geq N$.\n",
        "2. Convergence Time  \n",
        "Let convergence time $T$ be equal to the final time of the simulation.\n",
        "3. $M_1$ and $M_2$  \n",
        "Let $M_1$ be the value of the clients concentration at time $T$."
      ],
      "metadata": {
        "id": "PHXx7Xd_SLHn"
      },
      "id": "PHXx7Xd_SLHn"
    },
    {
      "cell_type": "code",
      "source": [
        "from math import floor, ceil\n",
        "import numpy as np\n",
        "\n",
        "# searches N for the given epsilon\n",
        "# such that abs(x[n] - x[n-1])\n",
        "# for each N <= n <= T\n",
        "def find_n(errors, eps):\n",
        "    for n in range(len(errors)):\n",
        "        is_found = True\n",
        "        for i in range(n, len(errors)):\n",
        "            if errors[i] > eps:\n",
        "                is_found = False\n",
        "                break\n",
        "        if is_found:\n",
        "            return True\n",
        "\n",
        "    return False\n",
        "\n",
        "# checks convergence of the sequence by\n",
        "# finding N for each epsilon \n",
        "def check_convergence(errors):\n",
        "    eps_range = range(ceil(min(errors)), ceil(max(errors)))\n",
        "    for eps in eps_range:\n",
        "        if not find_n(errors, eps):\n",
        "            return False\n",
        "\n",
        "    return True\n",
        "\n",
        "FINAL_TIME = 12 * 10 # 10 years\n",
        "\n",
        "# run a simulation with \n",
        "values = model.run(\n",
        "    initial_condition='original',\n",
        "    params={\n",
        "        'p11': 0.1,\n",
        "        'p13': 0.2,\n",
        "        'p21': 0.3,\n",
        "        'p23': 0.4\n",
        "    },\n",
        "    final_time=FINAL_TIME,\n",
        "    return_columns=['clients concentration', 'competitor clients concentration']\n",
        ")\n",
        "\n",
        "# calculate x[n] - x[n-1]\n",
        "m1_error = list()\n",
        "m2_error = list()\n",
        "for i in range(1, FINAL_TIME+1):\n",
        "    m1_error.append(abs(values.iloc[i][0] - values.iloc[i-1][0]))\n",
        "    m2_error.append(abs(values.iloc[i][1] - values.iloc[i-1][1]))\n",
        "\n",
        "# check whether m1 and m2 sequences converge\n",
        "print('m1 converges:', check_convergence(m1_error))\n",
        "print('m2 converges:', check_convergence(m2_error))\n",
        "\n",
        "# draw the plots\n",
        "fig, axs = plt.subplots(2, figsize=(8,7))\n",
        "\n",
        "axs[0].set_title(\"Customer Distribution\")\n",
        "axs[0].set_xlabel(\"months\")\n",
        "axs[0].set_ylabel(\"proportion\")\n",
        "axs[0].plot(values)\n",
        "\n",
        "axs[1].set_title(\"abs(x[i] - x[i-1])\")\n",
        "axs[1].set_xlabel(\"iteration\")\n",
        "axs[1].set_ylabel(\"error\")\n",
        "axs[1].plot(range(1, FINAL_TIME+1), m1_error)\n",
        "axs[1].plot(range(1, FINAL_TIME+1), m2_error)\n",
        "\n",
        "fig.legend(labels=values.columns, loc = 'center right')\n",
        "\n",
        "fig.tight_layout()"
      ],
      "metadata": {
        "colab": {
          "base_uri": "https://localhost:8080/",
          "height": 548
        },
        "id": "g2xvEM3-Yrg3",
        "outputId": "8643c7f7-6aba-4b7c-ba82-c8be1d772dec"
      },
      "id": "g2xvEM3-Yrg3",
      "execution_count": null,
      "outputs": [
        {
          "output_type": "stream",
          "name": "stdout",
          "text": [
            "m1 converges: True\n",
            "m2 converges: True\n"
          ]
        },
        {
          "output_type": "display_data",
          "data": {
            "image/png": "[encoded data removed]",
            "text/plain": [
              "<Figure size 576x504 with 2 Axes>"
            ]
          },
          "metadata": {
            "needs_background": "light"
          }
        }
      ]
    },
    {
      "cell_type": "markdown",
      "source": [
        "As you can see, the values of $|x_n - x_{n-1}|$ monotonically decrease to 0 during the time of simulation. For each $\\epsilon$ we can find $N \\leq T$ such that $|x_n - x_{n-1}|$ is not greater than epsilon for each $n > N$. It means that the sequences converge. "
      ],
      "metadata": {
        "id": "_ZhPcdsNVTBU"
      },
      "id": "_ZhPcdsNVTBU"
    },
    {
      "cell_type": "markdown",
      "source": [
        "## 3. ML Model"
      ],
      "metadata": {
        "id": "usaTm66FZCCZ"
      },
      "id": "usaTm66FZCCZ"
    },
    {
      "cell_type": "markdown",
      "source": [
        "### 0. Collect a dataset"
      ],
      "metadata": {
        "id": "8r5icsWDZGn-"
      },
      "id": "8r5icsWDZGn-"
    },
    {
      "cell_type": "markdown",
      "source": [
        "In order to collect the dataset we vary parameters $(p_{11}, p_{13}, p_{21}, p_{23})$. The values for the parameters are taken from the set of 10 evenly spaced values that belong to range from 0 to 1(`np.linspace(0,1,10)`). During variation we check the values of p whether they satisfy the necessary conditions. If they satisfy then we run the simulation with the current parameters and get a pair of values $(M_1, M_2)$ at $T$."
      ],
      "metadata": {
        "id": "Ukb-PmvxaTGE"
      },
      "id": "Ukb-PmvxaTGE"
    },
    {
      "cell_type": "code",
      "source": [
        "# setting simulation time to 2 years \n",
        "FINAL_TIME = 2 * 12"
      ],
      "metadata": {
        "id": "m7idgLVx4exY"
      },
      "id": "m7idgLVx4exY",
      "execution_count": 69,
      "outputs": []
    },
    {
      "cell_type": "code",
      "source": [
        "# import progressbar to check the progress\n",
        "from tqdm import tqdm\n",
        "\n",
        "# the values of parameters to variate\n",
        "params_range = np.linspace(0,1,11)\n",
        "\n",
        "p11_list = list()\n",
        "p13_list = list()\n",
        "p21_list = list()\n",
        "p23_list = list()\n",
        "m1_list = list()\n",
        "m2_list = list()\n",
        "\n",
        "# bruteforce the parameters of p\n",
        "for p11 in tqdm(params_range):\n",
        "    for p13 in params_range:\n",
        "        for p21 in params_range:\n",
        "            for p23 in params_range:\n",
        "                if p11+p13 <= 1 and p21+p23 <= 1:\n",
        "                    p11_list.append(p11)\n",
        "                    p13_list.append(p13)\n",
        "                    p21_list.append(p21)\n",
        "                    p23_list.append(p23)\n",
        "\n",
        "                    # run the simulation with current params\n",
        "                    values = model.run(\n",
        "                        initial_condition='original',\n",
        "                        params={\n",
        "                            'p11': p11,\n",
        "                            'p13': p13,\n",
        "                            'p21': p21,\n",
        "                            'p23': p23\n",
        "                        },\n",
        "                        final_time=FINAL_TIME,\n",
        "                        return_columns=[\n",
        "                            'clients concentration',\n",
        "                            'competitor clients concentration'\n",
        "                        ]\n",
        "                    )\n",
        "\n",
        "                    # calculate values of abs(x[n] - x[n-1]) for both M1 and M2\n",
        "                    m1_error = list()\n",
        "                    m2_error = list()\n",
        "                    for i in range(1, FINAL_TIME+1):\n",
        "                        m1_error.append(abs(values.iloc[i][0] - values.iloc[i-1][0]))\n",
        "                        m2_error.append(abs(values.iloc[i][1] - values.iloc[i-1][1]))\n",
        "\n",
        "                    # get values of M1 and M2\n",
        "                    m1_list.append(values.iloc[-1][0])\n",
        "                    m2_list.append(values.iloc[-1][1])"
      ],
      "metadata": {
        "colab": {
          "base_uri": "https://localhost:8080/"
        },
        "id": "ffig7F4YzcLX",
        "outputId": "06410d89-a366-4f06-ccb9-a179ce75d213"
      },
      "id": "ffig7F4YzcLX",
      "execution_count": 84,
      "outputs": [
        {
          "output_type": "stream",
          "name": "stderr",
          "text": [
            "100%|██████████| 11/11 [02:02<00:00, 11.11s/it]\n"
          ]
        }
      ]
    },
    {
      "cell_type": "code",
      "source": [
        "import pandas as pd\n",
        "\n",
        "# compose a dataframe\n",
        "df = pd.DataFrame(\n",
        "    data={\n",
        "        'p11': p11_list,\n",
        "        'p13': p13_list,\n",
        "        'p21': p21_list,\n",
        "        'p23': p23_list,\n",
        "        'm1': m1_list,\n",
        "        'm2': m2_list\n",
        "    }\n",
        ")"
      ],
      "metadata": {
        "id": "LcbsNdQL6f_Q"
      },
      "id": "LcbsNdQL6f_Q",
      "execution_count": 85,
      "outputs": []
    },
    {
      "cell_type": "code",
      "source": [
        "df"
      ],
      "metadata": {
        "colab": {
          "base_uri": "https://localhost:8080/",
          "height": 424
        },
        "id": "gIzeykr26-cW",
        "outputId": "501cb3e6-3b0c-4502-8c4c-9b33b238e47c"
      },
      "id": "gIzeykr26-cW",
      "execution_count": 86,
      "outputs": [
        {
          "output_type": "execute_result",
          "data": {
            "text/html": [
              "\n",
              "  <div id=\"df-96906221-1fc9-41dd-901e-749536abbf4a\">\n",
              "    <div class=\"colab-df-container\">\n",
              "      <div>\n",
              "<style scoped>\n",
              "    .dataframe tbody tr th:only-of-type {\n",
              "        vertical-align: middle;\n",
              "    }\n",
              "\n",
              "    .dataframe tbody tr th {\n",
              "        vertical-align: top;\n",
              "    }\n",
              "\n",
              "    .dataframe thead th {\n",
              "        text-align: right;\n",
              "    }\n",
              "</style>\n",
              "<table border=\"1\" class=\"dataframe\">\n",
              "  <thead>\n",
              "    <tr style=\"text-align: right;\">\n",
              "      <th></th>\n",
              "      <th>p11</th>\n",
              "      <th>p13</th>\n",
              "      <th>p21</th>\n",
              "      <th>p23</th>\n",
              "      <th>m1</th>\n",
              "      <th>m2</th>\n",
              "    </tr>\n",
              "  </thead>\n",
              "  <tbody>\n",
              "    <tr>\n",
              "      <th>0</th>\n",
              "      <td>0.0</td>\n",
              "      <td>0.0</td>\n",
              "      <td>0.0</td>\n",
              "      <td>0.0</td>\n",
              "      <td>0.172775</td>\n",
              "      <td>0.172775</td>\n",
              "    </tr>\n",
              "    <tr>\n",
              "      <th>1</th>\n",
              "      <td>0.0</td>\n",
              "      <td>0.0</td>\n",
              "      <td>0.0</td>\n",
              "      <td>0.1</td>\n",
              "      <td>0.163401</td>\n",
              "      <td>0.163401</td>\n",
              "    </tr>\n",
              "    <tr>\n",
              "      <th>2</th>\n",
              "      <td>0.0</td>\n",
              "      <td>0.0</td>\n",
              "      <td>0.0</td>\n",
              "      <td>0.2</td>\n",
              "      <td>0.155260</td>\n",
              "      <td>0.155260</td>\n",
              "    </tr>\n",
              "    <tr>\n",
              "      <th>3</th>\n",
              "      <td>0.0</td>\n",
              "      <td>0.0</td>\n",
              "      <td>0.0</td>\n",
              "      <td>0.3</td>\n",
              "      <td>0.148119</td>\n",
              "      <td>0.148119</td>\n",
              "    </tr>\n",
              "    <tr>\n",
              "      <th>4</th>\n",
              "      <td>0.0</td>\n",
              "      <td>0.0</td>\n",
              "      <td>0.0</td>\n",
              "      <td>0.4</td>\n",
              "      <td>0.141800</td>\n",
              "      <td>0.141800</td>\n",
              "    </tr>\n",
              "    <tr>\n",
              "      <th>...</th>\n",
              "      <td>...</td>\n",
              "      <td>...</td>\n",
              "      <td>...</td>\n",
              "      <td>...</td>\n",
              "      <td>...</td>\n",
              "      <td>...</td>\n",
              "    </tr>\n",
              "    <tr>\n",
              "      <th>4351</th>\n",
              "      <td>1.0</td>\n",
              "      <td>0.0</td>\n",
              "      <td>0.8</td>\n",
              "      <td>0.1</td>\n",
              "      <td>0.758087</td>\n",
              "      <td>0.169960</td>\n",
              "    </tr>\n",
              "    <tr>\n",
              "      <th>4352</th>\n",
              "      <td>1.0</td>\n",
              "      <td>0.0</td>\n",
              "      <td>0.8</td>\n",
              "      <td>0.2</td>\n",
              "      <td>0.726604</td>\n",
              "      <td>0.171544</td>\n",
              "    </tr>\n",
              "    <tr>\n",
              "      <th>4353</th>\n",
              "      <td>1.0</td>\n",
              "      <td>0.0</td>\n",
              "      <td>0.9</td>\n",
              "      <td>0.0</td>\n",
              "      <td>0.685879</td>\n",
              "      <td>0.281335</td>\n",
              "    </tr>\n",
              "    <tr>\n",
              "      <th>4354</th>\n",
              "      <td>1.0</td>\n",
              "      <td>0.0</td>\n",
              "      <td>0.9</td>\n",
              "      <td>0.1</td>\n",
              "      <td>0.620006</td>\n",
              "      <td>0.288007</td>\n",
              "    </tr>\n",
              "    <tr>\n",
              "      <th>4355</th>\n",
              "      <td>1.0</td>\n",
              "      <td>0.0</td>\n",
              "      <td>1.0</td>\n",
              "      <td>0.0</td>\n",
              "      <td>0.481601</td>\n",
              "      <td>0.481601</td>\n",
              "    </tr>\n",
              "  </tbody>\n",
              "</table>\n",
              "<p>4356 rows × 6 columns</p>\n",
              "</div>\n",
              "      <button class=\"colab-df-convert\" onclick=\"convertToInteractive('df-96906221-1fc9-41dd-901e-749536abbf4a')\"\n",
              "              title=\"Convert this dataframe to an interactive table.\"\n",
              "              style=\"display:none;\">\n",
              "        \n",
              "  <svg xmlns=\"http://www.w3.org/2000/svg\" height=\"24px\"viewBox=\"0 0 24 24\"\n",
              "       width=\"24px\">\n",
              "    <path d=\"M0 0h24v24H0V0z\" fill=\"none\"/>\n",
              "    <path d=\"M18.56 5.44l.94 2.06.94-2.06 2.06-.94-2.06-.94-.94-2.06-.94 2.06-2.06.94zm-11 1L8.5 8.5l.94-2.06 2.06-.94-2.06-.94L8.5 2.5l-.94 2.06-2.06.94zm10 10l.94 2.06.94-2.06 2.06-.94-2.06-.94-.94-2.06-.94 2.06-2.06.94z\"/><path d=\"M17.41 7.96l-1.37-1.37c-.4-.4-.92-.59-1.43-.59-.52 0-1.04.2-1.43.59L10.3 9.45l-7.72 7.72c-.78.78-.78 2.05 0 2.83L4 21.41c.39.39.9.59 1.41.59.51 0 1.02-.2 1.41-.59l7.78-7.78 2.81-2.81c.8-.78.8-2.07 0-2.86zM5.41 20L4 18.59l7.72-7.72 1.47 1.35L5.41 20z\"/>\n",
              "  </svg>\n",
              "      </button>\n",
              "      \n",
              "  <style>\n",
              "    .colab-df-container {\n",
              "      display:flex;\n",
              "      flex-wrap:wrap;\n",
              "      gap: 12px;\n",
              "    }\n",
              "\n",
              "    .colab-df-convert {\n",
              "      background-color: #E8F0FE;\n",
              "      border: none;\n",
              "      border-radius: 50%;\n",
              "      cursor: pointer;\n",
              "      display: none;\n",
              "      fill: #1967D2;\n",
              "      height: 32px;\n",
              "      padding: 0 0 0 0;\n",
              "      width: 32px;\n",
              "    }\n",
              "\n",
              "    .colab-df-convert:hover {\n",
              "      background-color: #E2EBFA;\n",
              "      box-shadow: 0px 1px 2px rgba(60, 64, 67, 0.3), 0px 1px 3px 1px rgba(60, 64, 67, 0.15);\n",
              "      fill: #174EA6;\n",
              "    }\n",
              "\n",
              "    [theme=dark] .colab-df-convert {\n",
              "      background-color: #3B4455;\n",
              "      fill: #D2E3FC;\n",
              "    }\n",
              "\n",
              "    [theme=dark] .colab-df-convert:hover {\n",
              "      background-color: #434B5C;\n",
              "      box-shadow: 0px 1px 3px 1px rgba(0, 0, 0, 0.15);\n",
              "      filter: drop-shadow(0px 1px 2px rgba(0, 0, 0, 0.3));\n",
              "      fill: #FFFFFF;\n",
              "    }\n",
              "  </style>\n",
              "\n",
              "      <script>\n",
              "        const buttonEl =\n",
              "          document.querySelector('#df-96906221-1fc9-41dd-901e-749536abbf4a button.colab-df-convert');\n",
              "        buttonEl.style.display =\n",
              "          google.colab.kernel.accessAllowed ? 'block' : 'none';\n",
              "\n",
              "        async function convertToInteractive(key) {\n",
              "          const element = document.querySelector('#df-96906221-1fc9-41dd-901e-749536abbf4a');\n",
              "          const dataTable =\n",
              "            await google.colab.kernel.invokeFunction('convertToInteractive',\n",
              "                                                     [key], {});\n",
              "          if (!dataTable) return;\n",
              "\n",
              "          const docLinkHtml = 'Like what you see? Visit the ' +\n",
              "            '<a target=\"_blank\" href=https://colab.research.google.com/notebooks/data_table.ipynb>data table notebook</a>'\n",
              "            + ' to learn more about interactive tables.';\n",
              "          element.innerHTML = '';\n",
              "          dataTable['output_type'] = 'display_data';\n",
              "          await google.colab.output.renderOutput(dataTable, element);\n",
              "          const docLink = document.createElement('div');\n",
              "          docLink.innerHTML = docLinkHtml;\n",
              "          element.appendChild(docLink);\n",
              "        }\n",
              "      </script>\n",
              "    </div>\n",
              "  </div>\n",
              "  "
            ],
            "text/plain": [
              "      p11  p13  p21  p23        m1        m2\n",
              "0     0.0  0.0  0.0  0.0  0.172775  0.172775\n",
              "1     0.0  0.0  0.0  0.1  0.163401  0.163401\n",
              "2     0.0  0.0  0.0  0.2  0.155260  0.155260\n",
              "3     0.0  0.0  0.0  0.3  0.148119  0.148119\n",
              "4     0.0  0.0  0.0  0.4  0.141800  0.141800\n",
              "...   ...  ...  ...  ...       ...       ...\n",
              "4351  1.0  0.0  0.8  0.1  0.758087  0.169960\n",
              "4352  1.0  0.0  0.8  0.2  0.726604  0.171544\n",
              "4353  1.0  0.0  0.9  0.0  0.685879  0.281335\n",
              "4354  1.0  0.0  0.9  0.1  0.620006  0.288007\n",
              "4355  1.0  0.0  1.0  0.0  0.481601  0.481601\n",
              "\n",
              "[4356 rows x 6 columns]"
            ]
          },
          "metadata": {},
          "execution_count": 86
        }
      ]
    },
    {
      "cell_type": "code",
      "source": [
        "# save the dataset to .csv file\n",
        "df.to_csv('simulation_data.csv')"
      ],
      "metadata": {
        "id": "tCJeP5QC7mRI"
      },
      "id": "tCJeP5QC7mRI",
      "execution_count": 87,
      "outputs": []
    },
    {
      "cell_type": "markdown",
      "source": [
        "### 1 and 2. Choose p and Simulate for (m1, m2)"
      ],
      "metadata": {
        "id": "2h0kCDEIplNj"
      },
      "id": "2h0kCDEIplNj"
    },
    {
      "cell_type": "markdown",
      "source": [
        "As the values of $(p_{11}, p_{13}, p_{21}, p_{23})$ I have chosen $(0.1, 0.2, 0.3, 0.4)$.  \n",
        "With these values, I had run the simulation:"
      ],
      "metadata": {
        "id": "s9gh0_UmoCXW"
      },
      "id": "s9gh0_UmoCXW"
    },
    {
      "cell_type": "code",
      "source": [
        "# set the parameters of the companies\n",
        "P = {\n",
        "    'p11': 0.1,\n",
        "    'p13': 0.2,\n",
        "    'p21': 0.3,\n",
        "    'p23': 0.4\n",
        "}\n",
        "\n",
        "# set the simulation time to 2 years\n",
        "FINAL_TIME = 2 * 12\n",
        "\n",
        "# run the simulation with the chosen parameters\n",
        "values = model.run(\n",
        "    initial_condition='original',\n",
        "    params=P,\n",
        "    final_time=FINAL_TIME,\n",
        "    return_columns=['clients concentration', 'competitor clients concentration']\n",
        ")"
      ],
      "metadata": {
        "id": "_hdN1w1DoOnp"
      },
      "id": "_hdN1w1DoOnp",
      "execution_count": 5,
      "outputs": []
    },
    {
      "cell_type": "markdown",
      "source": [
        "So, the mapping is as follows:"
      ],
      "metadata": {
        "id": "_rG4oklwo9-3"
      },
      "id": "_rG4oklwo9-3"
    },
    {
      "cell_type": "code",
      "source": [
        "print('p:', P)\n",
        "\n",
        "M = (values.iloc[-1][0], values.iloc[-1][1])\n",
        "print('(M1, M2):', M)"
      ],
      "metadata": {
        "colab": {
          "base_uri": "https://localhost:8080/"
        },
        "id": "CgXJq9HCmMnj",
        "outputId": "741faf3d-bfb1-4f6d-c197-f0dc773bc0b4"
      },
      "id": "CgXJq9HCmMnj",
      "execution_count": 6,
      "outputs": [
        {
          "output_type": "stream",
          "name": "stdout",
          "text": [
            "p: {'p11': 0.1, 'p13': 0.2, 'p21': 0.3, 'p23': 0.4}\n",
            "(M1, M2): (0.05773156354475368, 0.5086595554589093)\n"
          ]
        }
      ]
    },
    {
      "cell_type": "markdown",
      "source": [
        "### 3. Build a ML model"
      ],
      "metadata": {
        "id": "_t-1kyQXpt3Q"
      },
      "id": "_t-1kyQXpt3Q"
    },
    {
      "cell_type": "markdown",
      "source": [
        "In order to model the data provided in the dataset I have decided to use polynomial regresssion. This type of machine learning model allows to model the function from $p$ to $M$ that has a non-linear behavior. Tuning the degree of the polynomial we can achieve better representation of the function. In order to model the function with a pair of values as an output we build a pair of models predicting $M_1$ and $M_2$. "
      ],
      "metadata": {
        "id": "kjl3s56lpduS"
      },
      "id": "kjl3s56lpduS"
    },
    {
      "cell_type": "code",
      "source": [
        "import pandas as pd\n",
        "df = pd.read_csv('simulation_data.csv')\n",
        "\n",
        "# delete the column duplicating the index column\n",
        "df = df.iloc[:, 1:]\n",
        "\n",
        "# get the names of model features and targets\n",
        "features = df.columns[:4]\n",
        "target1 = df.columns[4] # m1\n",
        "target2 = df.columns[5] # m2\n",
        "\n",
        "# get features data and targets' data\n",
        "X = df[features]\n",
        "y1 = df[target1]\n",
        "y2 = df[target2]"
      ],
      "metadata": {
        "id": "LvIFtpUYykk7"
      },
      "id": "LvIFtpUYykk7",
      "execution_count": 88,
      "outputs": []
    },
    {
      "cell_type": "code",
      "source": [
        "from sklearn.model_selection import train_test_split\n",
        "\n",
        "# split the data to test dataset and train dataset\n",
        "X_train, X_test, y1_train, y1_test = train_test_split(X, y1, test_size=0.2, random_state=0)\n",
        "X_train, X_test, y2_train, y2_test = train_test_split(X, y2, test_size=0.2, random_state=0)"
      ],
      "metadata": {
        "id": "uqWDeynL0mWF"
      },
      "id": "uqWDeynL0mWF",
      "execution_count": 89,
      "outputs": []
    },
    {
      "cell_type": "code",
      "source": [
        "from sklearn.pipeline import Pipeline\n",
        "from sklearn.preprocessing import PolynomialFeatures\n",
        "from sklearn.linear_model import LinearRegression\n",
        "from sklearn.pipeline import make_pipeline\n",
        "from sklearn.model_selection import GridSearchCV\n",
        "\n",
        "# polynomial regression model to create particular regressors\n",
        "def PolynomialRegression(degree=2, **kwargs):\n",
        "    return make_pipeline(PolynomialFeatures(degree), LinearRegression(**kwargs))\n",
        "\n",
        "# trains a polynomial regressor with\n",
        "# degree fine-tuned from 'range' \n",
        "def train_pr(X_train, y_train, range):\n",
        "    \n",
        "    # set the gridsearch parameters (degree of polynomial)\n",
        "    pr_parameters = {\n",
        "        'polynomialfeatures__degree': range\n",
        "    }\n",
        "\n",
        "    # find the best degree using gridsearch\n",
        "    pr_grid_search = GridSearchCV(PolynomialRegression(), pr_parameters)\n",
        "    pr_grid_search.fit(X_train, y1_train)\n",
        "    best_params = pr_grid_search.best_params_\n",
        "\n",
        "    # create and fit a regressor with the best degree\n",
        "    pr = PolynomialRegression(degree=best_params['polynomialfeatures__degree'])\n",
        "    pr.fit(X_train, y_train)\n",
        "\n",
        "    return pr"
      ],
      "metadata": {
        "id": "oN1SZxSICOI3"
      },
      "id": "oN1SZxSICOI3",
      "execution_count": 90,
      "outputs": []
    },
    {
      "cell_type": "code",
      "source": [
        "# train a regressor to predict M1\n",
        "pr1 = train_pr(X_train, y1_train, range(1, 11))\n",
        "pr1"
      ],
      "metadata": {
        "colab": {
          "base_uri": "https://localhost:8080/"
        },
        "id": "O6luOBqKGwZN",
        "outputId": "ab1c1d5f-f981-4237-923c-6d75a6c062a8"
      },
      "id": "O6luOBqKGwZN",
      "execution_count": 91,
      "outputs": [
        {
          "output_type": "execute_result",
          "data": {
            "text/plain": [
              "Pipeline(steps=[('polynomialfeatures', PolynomialFeatures(degree=10)),\n",
              "                ('linearregression', LinearRegression())])"
            ]
          },
          "metadata": {},
          "execution_count": 91
        }
      ]
    },
    {
      "cell_type": "code",
      "source": [
        "# train a regressor to predict M2\n",
        "pr2 = train_pr(X_train, y2_train, range(1, 11))\n",
        "pr2"
      ],
      "metadata": {
        "colab": {
          "base_uri": "https://localhost:8080/"
        },
        "id": "tEpbXF5AHSrS",
        "outputId": "c3dc731a-fddd-4666-93d8-cbd7edd82864"
      },
      "id": "tEpbXF5AHSrS",
      "execution_count": 92,
      "outputs": [
        {
          "output_type": "execute_result",
          "data": {
            "text/plain": [
              "Pipeline(steps=[('polynomialfeatures', PolynomialFeatures(degree=10)),\n",
              "                ('linearregression', LinearRegression())])"
            ]
          },
          "metadata": {},
          "execution_count": 92
        }
      ]
    },
    {
      "cell_type": "markdown",
      "source": [
        "Here are the testing MSE values for both models:"
      ],
      "metadata": {
        "id": "zTLRK8xguBUZ"
      },
      "id": "zTLRK8xguBUZ"
    },
    {
      "cell_type": "code",
      "source": [
        "from sklearn.metrics import mean_squared_error\n",
        "\n",
        "print('PolReg MSE for m1:', mean_squared_error(y1_test, pr1.predict(X_test)))\n",
        "print('PolReg MSE for m2:', mean_squared_error(y2_test, pr2.predict(X_test)))"
      ],
      "metadata": {
        "colab": {
          "base_uri": "https://localhost:8080/"
        },
        "id": "6EOae4JgIBx0",
        "outputId": "0a61e5b7-2b33-4859-d0c7-d550f4c3988b"
      },
      "id": "6EOae4JgIBx0",
      "execution_count": 93,
      "outputs": [
        {
          "output_type": "stream",
          "name": "stdout",
          "text": [
            "PolReg MSE for m1: 8.051356648638145e-05\n",
            "PolReg MSE for m2: 8.582014542770811e-05\n"
          ]
        }
      ]
    },
    {
      "cell_type": "markdown",
      "source": [
        "### 4. Bruteforce each (p11, p13) until predicted (m1, m2) is close to the simulated value by 7% of market share"
      ],
      "metadata": {
        "id": "iH2xKX8MyV11"
      },
      "id": "iH2xKX8MyV11"
    },
    {
      "cell_type": "markdown",
      "source": [
        "Leaving parameters of the competitor company $p_{21}$ and $p_{23}$ as constant(equal to 0.3 and 0.4 correspondingly) we vary parameters of our company $p_{11}$ and $p_{13}$ by taking values from `np.linspace(0,1,121)`.  \n",
        "During variation we check if the predicted values of $M$ are close to the simulated values of $M$ by $\\pm$ 7% of market share. "
      ],
      "metadata": {
        "id": "dTOXAFfFu50U"
      },
      "id": "dTOXAFfFu50U"
    },
    {
      "cell_type": "code",
      "source": [
        "# calculate values of m1,m2 from the ML model\n",
        "def predict_m(range1, range2):\n",
        "    p11_list = list()\n",
        "    p13_list = list()\n",
        "    p21_list = list()\n",
        "    p23_list = list()\n",
        "    m1_list = list()\n",
        "    m2_list = list()\n",
        "\n",
        "    for p11 in range1:\n",
        "        for p13 in range2:\n",
        "            if p11+p13 <= 1:\n",
        "                \n",
        "                p11_list.append(p11)\n",
        "                p13_list.append(p13)\n",
        "                p21_list.append(P['p21'])\n",
        "                p23_list.append(P['p23'])\n",
        "                \n",
        "\n",
        "                X = pd.DataFrame(\n",
        "                    data={\n",
        "                        'p11': [p11],\n",
        "                        'p13': [p13],\n",
        "                        'p21': [P['p21']],\n",
        "                        'p23': [P['p23']]\n",
        "                    }\n",
        "                )\n",
        "        \n",
        "                m1_list.append(pr1.predict(X)[0])\n",
        "                m2_list.append(pr2.predict(X)[0])\n",
        "\n",
        "    return pd.DataFrame(\n",
        "        data={\n",
        "            'p11': p11_list,\n",
        "            'p13': p13_list,\n",
        "            'p21': p21_list,\n",
        "            'p23': p23_list,\n",
        "            'm1': m1_list,\n",
        "            'm2': m2_list\n",
        "        }\n",
        "    )"
      ],
      "metadata": {
        "id": "v9gW4gI8Mz2U"
      },
      "id": "v9gW4gI8Mz2U",
      "execution_count": 53,
      "outputs": []
    },
    {
      "cell_type": "code",
      "source": [
        "# finds points that differ from M withing 7% of market share\n",
        "def find_close_points(df):\n",
        "\n",
        "    global M\n",
        "\n",
        "    return df[\n",
        "        (np.abs(df['m1'] - M[0]) <= 0.07) &\n",
        "        (np.abs(df['m2'] - M[1]) <= 0.07)\n",
        "    ]"
      ],
      "metadata": {
        "id": "fem6Hcr7Zfyy"
      },
      "id": "fem6Hcr7Zfyy",
      "execution_count": 135,
      "outputs": []
    },
    {
      "cell_type": "code",
      "source": [
        "# plot that heatmap of m1 or m2 on values p11 and p13\n",
        "def show_heatmap(title, df, value):\n",
        "    # draw the data points\n",
        "    plot = plt.scatter(df[\"p11\"], df[\"p13\"], c=df[value])\n",
        "    # find the close points in the passed data\n",
        "    close_points = find_close_points(df)\n",
        "    # draw close points with red color\n",
        "    plt.scatter(close_points[\"p11\"], close_points[\"p13\"], color='r')\n",
        "    \n",
        "    plt.colorbar(plot)\n",
        "    plt.title(title)\n",
        "    plt.xlabel('p11')\n",
        "    plt.ylabel('p13')\n",
        "    plt.xticks(\n",
        "        np.linspace(\n",
        "            min(df['p11'].min(), df['p13'].min()),\n",
        "            max(df['p11'].max(), df['p13'].max()),\n",
        "            11\n",
        "        )\n",
        "    )\n",
        "    plt.yticks(\n",
        "        np.linspace(\n",
        "            min(df['p11'].min(), df['p13'].min()),\n",
        "            max(df['p11'].max(), df['p13'].max()),\n",
        "            11\n",
        "        )\n",
        "    )\n",
        "    plt.grid()\n",
        "    plt.show()"
      ],
      "metadata": {
        "id": "Aw5ukmsuZ2lL"
      },
      "id": "Aw5ukmsuZ2lL",
      "execution_count": 132,
      "outputs": []
    },
    {
      "cell_type": "code",
      "source": [
        "# calculate values of m1 and m2 on p11 and p2 from np.linspace(0,1,121)\n",
        "pred_m_df = predict_m(np.linspace(0,1,11*11), np.linspace(0,1,11*11))"
      ],
      "metadata": {
        "id": "AS4s51JhXro-"
      },
      "id": "AS4s51JhXro-",
      "execution_count": 126,
      "outputs": []
    },
    {
      "cell_type": "markdown",
      "source": [
        "Below you can see the heatmaps of $M_1$ and $M_2$ with close points(differ from $M$ within $\\pm 7%$ of market share) highlighted with red."
      ],
      "metadata": {
        "id": "9QirHDqwi9wR"
      },
      "id": "9QirHDqwi9wR"
    },
    {
      "cell_type": "code",
      "source": [
        "show_heatmap('Modelled M1', pred_m_df, \"m1\")"
      ],
      "metadata": {
        "colab": {
          "base_uri": "https://localhost:8080/",
          "height": 295
        },
        "id": "MJnR6YcIaTUb",
        "outputId": "75b17117-7538-42d2-faa3-a47fbf585dc3"
      },
      "id": "MJnR6YcIaTUb",
      "execution_count": 143,
      "outputs": [
        {
          "output_type": "display_data",
          "data": {
            "image/png": "[encoded data removed]",
            "text/plain": [
              "<Figure size 432x288 with 2 Axes>"
            ]
          },
          "metadata": {
            "needs_background": "light"
          }
        }
      ]
    },
    {
      "cell_type": "code",
      "source": [
        "show_heatmap('Modelled M2', pred_m_df, \"m2\")"
      ],
      "metadata": {
        "colab": {
          "base_uri": "https://localhost:8080/",
          "height": 295
        },
        "id": "ieMQFvqhaZiy",
        "outputId": "7d5b66c4-46e8-40a0-d689-d89180552082"
      },
      "id": "ieMQFvqhaZiy",
      "execution_count": 144,
      "outputs": [
        {
          "output_type": "display_data",
          "data": {
            "image/png": "[encoded data removed]",
            "text/plain": [
              "<Figure size 432x288 with 2 Axes>"
            ]
          },
          "metadata": {
            "needs_background": "light"
          }
        }
      ]
    },
    {
      "cell_type": "markdown",
      "source": [
        "Here you can see the heatmaps of $M_1$ and $M_2$ retrieved by the simulation process. Again, close points are highlights with red."
      ],
      "metadata": {
        "id": "Nh0DkD5-jaTy"
      },
      "id": "Nh0DkD5-jaTy"
    },
    {
      "cell_type": "code",
      "source": [
        "df_fixed_p2 = df[(df['p21'] == 0.3) & (df['p23'] == 0.4)]"
      ],
      "metadata": {
        "id": "f3Jv5txiayzm"
      },
      "id": "f3Jv5txiayzm",
      "execution_count": 139,
      "outputs": []
    },
    {
      "cell_type": "code",
      "source": [
        "show_heatmap('Simulated M1', df_fixed_p2, 'm1')"
      ],
      "metadata": {
        "colab": {
          "base_uri": "https://localhost:8080/",
          "height": 295
        },
        "id": "Vc4yGk_2bLA7",
        "outputId": "185e47dc-5741-4fc6-8dd4-433c700da361"
      },
      "id": "Vc4yGk_2bLA7",
      "execution_count": 141,
      "outputs": [
        {
          "output_type": "display_data",
          "data": {
            "image/png": "[encoded data removed]",
            "text/plain": [
              "<Figure size 432x288 with 2 Axes>"
            ]
          },
          "metadata": {
            "needs_background": "light"
          }
        }
      ]
    },
    {
      "cell_type": "code",
      "source": [
        "show_heatmap('Simulated M2', df_fixed_p2, 'm2')"
      ],
      "metadata": {
        "colab": {
          "base_uri": "https://localhost:8080/",
          "height": 295
        },
        "id": "i0nUpbxZTpGt",
        "outputId": "147db87d-9fd5-4e8e-bae1-eb3acb982c92"
      },
      "id": "i0nUpbxZTpGt",
      "execution_count": 142,
      "outputs": [
        {
          "output_type": "display_data",
          "data": {
            "image/png": "[encoded data removed]",
            "text/plain": [
              "<Figure size 432x288 with 2 Axes>"
            ]
          },
          "metadata": {
            "needs_background": "light"
          }
        }
      ]
    }
  ],
  "metadata": {
    "kernelspec": {
      "display_name": "Python 3",
      "language": "python",
      "name": "python3"
    },
    "language_info": {
      "codemirror_mode": {
        "name": "ipython",
        "version": 3
      },
      "file_extension": ".py",
      "mimetype": "text/x-python",
      "name": "python",
      "nbconvert_exporter": "python",
      "pygments_lexer": "ipython3",
      "version": "3.8.8"
    },
    "colab": {
      "name": "smfes_hw2.ipynb",
      "provenance": [],
      "collapsed_sections": [
        "1qIWa8SXRx--"
      ]
    }
  },
  "nbformat": 4,
  "nbformat_minor": 5
}